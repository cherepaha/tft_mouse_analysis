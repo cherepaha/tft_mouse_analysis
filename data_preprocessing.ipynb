{
 "cells": [
  {
   "cell_type": "markdown",
   "metadata": {},
   "source": [
    "This short notebook provides a piece of code to convert the original mouse data into conventional (t, x, y) format.\n",
    "\n",
    "Originally, mouse data was recorded to 16 text files, one per participant. Each file consists of a header line and 280 data lines, one per each trial. In each line, the variables are tab-separated. \n",
    "\n",
    "Mouse coordinates were supposed to be stored in the column _PositionList_ (9th column). However, it seems there was an issue with the data recording software: instead of storing each mouse trajectory in its own line, the mouse data was accumulated from trial to trial, so that column 9 at line 280 contains __all the mouse trajectories of a participant__.\n",
    "\n",
    "To make the data usable, we process the original data file by file. Function `process_all_mouse_data` simply loops over individual files, and calls `process_participant_data` on them. After that, the data is recorded again in individual files. (later we'll merge them in one data file for convenience)\n",
    "\n",
    "To process each file, we read the file line by line, and extract from each line only the data that does not overlap with what was extracted before. Most of it is done by this line\n",
    "\n",
    "```python\n",
    "eval(line.split('\\t')[8][1:-1])[previous_trajs_len:]\n",
    "```\n",
    "We then remember how many samples were in the trajectory just processed so that we can ignore this data in the next lines.\n",
    "\n",
    "```python\n",
    "previous_trajs_len += len(trajectory)\n",
    "```\n",
    "\n",
    "Finally, we add information on participant and trial number to each trajectory, and when all trajectories are extracted, concatenate them in a single dataframe.\n",
    "\n",
    "This all takes a while, because in the end we still need to read every single line of the sixteen 500 MB or so original data files. However, we only need to do this once, as the processed data is saved to csv in the end."
   ]
  },
  {
   "cell_type": "code",
   "execution_count": null,
   "metadata": {
    "scrolled": true
   },
   "outputs": [],
   "source": [
    "import numpy as np\n",
    "import pandas as pd\n",
    "import os\n",
    "import re\n",
    "\n",
    "def process_participant_data(data, participant):\n",
    "    trajectories = []\n",
    "    previous_trajs_len = 0\n",
    "    \n",
    "    for j, line in enumerate(data):\n",
    "        trial_no = j+1\n",
    "        trajectory = pd.DataFrame(eval(line.split('\\t')[8][1:-1])[previous_trajs_len:], columns=['t', 'x', 'y'])\n",
    "        previous_trajs_len += len(trajectory)\n",
    "        trajectory['participant'] = participant\n",
    "        trajectory['trial_no'] = trial_no\n",
    "        trajectories.append(trajectory)\n",
    "\n",
    "    return pd.concat(trajectories)\n",
    "\n",
    "def process_all_mouse_data(input_data_path, processed_data_path):\n",
    "    if not os.path.exists(processed_data_path):\n",
    "        os.makedirs(processed_data_path)\n",
    "    \n",
    "    for file_name in os.listdir(input_data_path):\n",
    "        participant = int(re.findall(r'\\d+', file_name)[0])\n",
    "        print('Processing participant %i...' % (participant))\n",
    "        file_path = os.path.join(input_data_path, file_name)\n",
    "\n",
    "        with open(file_path) as f:\n",
    "            # skip the header line\n",
    "            f.readline()\n",
    "            data = f.readlines()\n",
    "        data = process_participant_data(data, participant).loc[:,['participant', 'trial_no', 't', 'x', 'y']]    \n",
    "        data.to_csv(os.path.join(processed_data_path, 'P%i_tftmouse.csv' % (participant)), index=False)\n",
    "        print('Processing finished!')\n",
    "\n",
    "input_data_path = '../../data/TfT/MouseData/'\n",
    "processed_data_path = '../../data/TfT/MouseData_processed/'\n",
    "\n",
    "process_all_mouse_data(input_data_path, processed_data_path)"
   ]
  }
 ],
 "metadata": {
  "kernelspec": {
   "display_name": "Python 3",
   "language": "python",
   "name": "python3"
  },
  "language_info": {
   "codemirror_mode": {
    "name": "ipython",
    "version": 3
   },
   "file_extension": ".py",
   "mimetype": "text/x-python",
   "name": "python",
   "nbconvert_exporter": "python",
   "pygments_lexer": "ipython3",
   "version": "3.6.1"
  }
 },
 "nbformat": 4,
 "nbformat_minor": 2
}
